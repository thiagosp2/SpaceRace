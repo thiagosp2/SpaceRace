{
    "cells": [
        {
            "cell_type": "code",
            "execution_count": null,
            "metadata": {
                "collapsed": true
            },
            "outputs": [],
            "source": "#You have to convert this file to a py file\n\n# Import required libraries\nimport pandas as pd\nimport dash\nimport dash_html_components as html\nimport dash_core_components as dcc\nfrom dash.dependencies import Input, Output\nimport plotly.express as px\n\n\n# Read the airline data into pandas dataframe\nspacex_df = pd.read_csv(\"spacex_launch_dash.csv\")\nmax_payload = spacex_df['Payload Mass (kg)'].max()\nmin_payload = spacex_df['Payload Mass (kg)'].min()\nsite_names = spacex_df['Launch Site'].drop_duplicates()\n\n\n\n# Create a dash application\napp = dash.Dash(__name__)\n\napp.logger.info('START')\n# Create an app layout\napp.layout = html.Div(children=[html.H1('SpaceX Launch Records Dashboard',\n                                        style={'textAlign': 'center', 'color': '#503D36',\n                                               'font-size': 40}),\n                                \n\t\t\t\t# TASK 1: Add a dropdown list to enable Launch Site selection\n                                # The default select value is for ALL sites\n                                # dcc.Dropdown(id='site-dropdown',...)\n\n                                dcc.Dropdown(id='site-dropdown', \n                                    options=opts,\n                                    value='ALL',\n                                    placeholder=\"place holder here\",\n                                    searchable=True\n                                ),\n\n                                html.Br(),\n\n                                # TASK 2: Add a pie chart to show the total successful launches count for all sites\n                                # If a specific launch site was selected, show the Success vs. Failed counts for the site\n                                html.Div(dcc.Graph(id='success-pie-chart')),\n                                html.Br(),\n\n                                html.P(\"Payload range (Kg):\"),\n                                # TASK 3: Add a slider to select payload range\n                                #dcc.RangeSlider(id='payload-slider',...)\n                                dcc.RangeSlider(id='payload-slider',\n                                                min=0, max=10000, step=1000,\n                                                marks={\n                                                    0: '0', \n                                                    2500: '2500',\n                                                    5000: '5000',\n                                                    7500: '7500',\n                                                    10000: '10000'},\n                                                value=[min_payload, max_payload]),\n\n                                # TASK 4: Add a scatter chart to show the correlation between payload and launch success\n                                html.Div(dcc.Graph(id='success-payload-scatter-chart')),\n                                ])\n\n# TASK 2:\n# Add a callback function for `site-dropdown` as input, `success-pie-chart` as output\n# Function decorator to specify function input and output\n@app.callback(Output(component_id='success-pie-chart', component_property='figure'),\n              Input(component_id='site-dropdown', component_property='value'))\ndef get_pie_chart(entered_site):\n    filtered_df = spacex_df.copy()\n    if entered_site == 'ALL':\n        fig = px.pie(spacex_df, values='class', \n            names='Launch Site', \n            title='Total Success Launches by Site')\n        return fig\n    else:\n        filtered_df = filtered_df[filtered_df['Launch Site']==entered_site].copy()\n        filtered_df['count'] = 1\n        fig = px.pie(filtered_df, values='count', \n            names='class', \n            title=f'Total Success Launches for site {entered_site}')\n        return fig\n        # return the outcomes piechart for a selected site\n# TASK 4:\n# Add a callback function for `site-dropdown` and `payload-slider` as inputs, `success-payload-scatter-chart` as output\n@app.callback(Output(component_id='success-payload-scatter-chart', component_property='figure'),\n            [Input(component_id='site-dropdown', component_property='value'), \n             Input(component_id=\"payload-slider\", component_property=\"value\")])\ndef get_scatter_chart(entered_site, range_payload_mass):\n    payload_filter = (spacex_df['Payload Mass (kg)'] >= range_payload_mass[0]) & (spacex_df['Payload Mass (kg)'] <= range_payload_mass[1])\n    filtered_df = spacex_df[payload_filter].copy()\n    if entered_site == 'ALL':\n        fig = px.scatter(\n            filtered_df, \n            x='Payload Mass (kg)',\n            y='class',\n            color='Booster Version Category',\n            title='Correlation between Payload and Success for all Sites')\n        return fig\n    else:\n        filtered_df = filtered_df[filtered_df['Launch Site']==entered_site].copy()\n        fig = px.scatter(\n            filtered_df, \n            x='Payload Mass (kg)',\n            y='class',\n            color='Booster Version Category',\n            title='Correlation between Payload and Success for {entered_site} Site')\n        return fig\n        # return the outcomes piechart for a selected site\n# Run the app\nif __name__ == '__main__':\n    app.run_server()\n"
        }
    ],
    "metadata": {
        "kernelspec": {
            "display_name": "Python 3.9",
            "language": "python",
            "name": "python3"
        },
        "language_info": {
            "codemirror_mode": {
                "name": "ipython",
                "version": 3
            },
            "file_extension": ".py",
            "mimetype": "text/x-python",
            "name": "python",
            "nbconvert_exporter": "python",
            "pygments_lexer": "ipython3",
            "version": "3.9.7"
        }
    },
    "nbformat": 4,
    "nbformat_minor": 1
}